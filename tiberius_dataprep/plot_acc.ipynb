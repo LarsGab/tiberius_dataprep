{
 "cells": [
  {
   "cell_type": "code",
   "execution_count": null,
   "metadata": {},
   "outputs": [],
   "source": [
    "import sys  \n",
    "from util import (read_training_stats, plot_training_metrics, \n",
    "        plot_accuracies, get_best_epoch, plot_gffcompare_accuracy, \n",
    "        plot_gffcompare_accuracy_with_table)"
   ]
  },
  {
   "cell_type": "code",
   "execution_count": null,
   "metadata": {},
   "outputs": [],
   "source": [
    "### Load Validation Accuracy Results\n",
    "\n",
    "# List of Validation Species Identifier (Here to Validationspecies of Eudicots)\n",
    "species_val = ['Ptrichocarpav4.1', 'Sofficinalisv1.1']\n",
    "\n",
    "# Directory where gffcompare results reside, \n",
    "# these have to be formated as <run_ID>.epoch_<epoch_ID>.<species_ID>.stats> e.g., 0.epoch_23.Sofficinalisv1.1.stats\n",
    "train_1_dir = '/home/gabriell/brain/tiberius_training/eudicots/eval/train1/'\n",
    "\n",
    "# load stats from train_1_dir for species is species_val\n",
    "stats = read_training_stats(train_1_dir, species_val)\n"
   ]
  },
  {
   "cell_type": "code",
   "execution_count": null,
   "metadata": {},
   "outputs": [],
   "source": [
    "# compute epoch with best score of Exon + Tx Acc.\n",
    "get_best_epoch(list(stats.values()))"
   ]
  },
  {
   "cell_type": "code",
   "execution_count": null,
   "metadata": {},
   "outputs": [],
   "source": [
    "# plot acc over epochs\n",
    "plot_training_metrics(\n",
    "    stats=stats['Ptrichocarpav4.1'], \n",
    "    title=\"Populus trichocarpa (Validation)\", \n",
    "    out=\"p_tri.png\"\n",
    "    )"
   ]
  },
  {
   "cell_type": "code",
   "execution_count": null,
   "metadata": {},
   "outputs": [],
   "source": [
    "# plot acc over epochs\n",
    "plot_training_metrics(\n",
    "    stats=stats['Sofficinalisv1.1'], \n",
    "    title=\"Saponaria officinalis (Validation)\", \n",
    "    out=\"s_offi.png\"\n",
    "    )"
   ]
  },
  {
   "cell_type": "code",
   "execution_count": null,
   "metadata": {},
   "outputs": [],
   "source": [
    "# plot test acc for specific epoch\n",
    "\n",
    "# epoch name\n",
    "epoch =  \"2_epoch01\"\n",
    "\n",
    "# test species IDs\n",
    "species = [\"AthalianacolumbiaAraport11\",\n",
    "        \"EcalifornicavarAurantiacaOrangeKingPlant11HAP1v1.1\",\n",
    "        \"MguttatusvarIM62v3.1\" \n",
    "            ]\n",
    "\n",
    "# list of stats files for all species of epoch\n",
    "stats_files = [\n",
    "    f\"/home/gabriell/brain/tiberius_training/eudicots/test/{s}/{epoch}.{s}.stats\" \\\n",
    "    for s in species\n",
    "]\n",
    "\n",
    "# plot CDS and TX acc\n",
    "plot_gffcompare_accuracy_with_table(stats_files, labels=[\"A. thal\", \"E. cali\", \"M. gutt\"])"
   ]
  }
 ],
 "metadata": {
  "kernelspec": {
   "display_name": "Python 3",
   "language": "python",
   "name": "python3"
  },
  "language_info": {
   "codemirror_mode": {
    "name": "ipython",
    "version": 3
   },
   "file_extension": ".py",
   "mimetype": "text/x-python",
   "name": "python",
   "nbconvert_exporter": "python",
   "pygments_lexer": "ipython3",
   "version": "3.10.6"
  },
  "orig_nbformat": 4
 },
 "nbformat": 4,
 "nbformat_minor": 2
}
